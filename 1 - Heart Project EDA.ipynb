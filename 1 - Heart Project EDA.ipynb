{
 "cells": [
  {
   "cell_type": "markdown",
   "id": "d4f11b89-51e6-4f59-bc96-23c9b12ab7eb",
   "metadata": {},
   "source": [
    "## This dataset is meant to provide input which can be used to predict the likelihood that the patient will suffer a heart attack. It can be found here:\n",
    "https://www.kaggle.com/datasets/rashikrahmanpritom/heart-attack-analysis-prediction-dataset"
   ]
  },
  {
   "cell_type": "code",
   "execution_count": 78,
   "id": "86b26a0c-78ff-41c7-adad-f0fea2d3d4ba",
   "metadata": {},
   "outputs": [],
   "source": [
    "import pandas as pd\n",
    "import numpy as np\n",
    "import matplotlib.pyplot as plt\n",
    "import seaborn as sns\n",
    "\n",
    "import warnings\n",
    "warnings.filterwarnings(\"ignore\")"
   ]
  },
  {
   "cell_type": "code",
   "execution_count": 79,
   "id": "7e5f4432-c10a-4363-b62d-ce6063eae164",
   "metadata": {},
   "outputs": [],
   "source": [
    "df = pd.read_csv('heart.csv')"
   ]
  },
  {
   "cell_type": "code",
   "execution_count": 80,
   "id": "ea12a80a-0f76-40ca-9467-d072bcd02ed1",
   "metadata": {
    "scrolled": true
   },
   "outputs": [
    {
     "data": {
      "text/html": [
       "<div>\n",
       "<style scoped>\n",
       "    .dataframe tbody tr th:only-of-type {\n",
       "        vertical-align: middle;\n",
       "    }\n",
       "\n",
       "    .dataframe tbody tr th {\n",
       "        vertical-align: top;\n",
       "    }\n",
       "\n",
       "    .dataframe thead th {\n",
       "        text-align: right;\n",
       "    }\n",
       "</style>\n",
       "<table border=\"1\" class=\"dataframe\">\n",
       "  <thead>\n",
       "    <tr style=\"text-align: right;\">\n",
       "      <th></th>\n",
       "      <th>age</th>\n",
       "      <th>sex</th>\n",
       "      <th>cp</th>\n",
       "      <th>trtbps</th>\n",
       "      <th>chol</th>\n",
       "      <th>fbs</th>\n",
       "      <th>restecg</th>\n",
       "      <th>thalachh</th>\n",
       "      <th>exng</th>\n",
       "      <th>oldpeak</th>\n",
       "      <th>slp</th>\n",
       "      <th>caa</th>\n",
       "      <th>thall</th>\n",
       "      <th>output</th>\n",
       "    </tr>\n",
       "  </thead>\n",
       "  <tbody>\n",
       "    <tr>\n",
       "      <th>0</th>\n",
       "      <td>63</td>\n",
       "      <td>1</td>\n",
       "      <td>3</td>\n",
       "      <td>145</td>\n",
       "      <td>233</td>\n",
       "      <td>1</td>\n",
       "      <td>0</td>\n",
       "      <td>150</td>\n",
       "      <td>0</td>\n",
       "      <td>2.3</td>\n",
       "      <td>0</td>\n",
       "      <td>0</td>\n",
       "      <td>1</td>\n",
       "      <td>1</td>\n",
       "    </tr>\n",
       "    <tr>\n",
       "      <th>1</th>\n",
       "      <td>37</td>\n",
       "      <td>1</td>\n",
       "      <td>2</td>\n",
       "      <td>130</td>\n",
       "      <td>250</td>\n",
       "      <td>0</td>\n",
       "      <td>1</td>\n",
       "      <td>187</td>\n",
       "      <td>0</td>\n",
       "      <td>3.5</td>\n",
       "      <td>0</td>\n",
       "      <td>0</td>\n",
       "      <td>2</td>\n",
       "      <td>1</td>\n",
       "    </tr>\n",
       "    <tr>\n",
       "      <th>2</th>\n",
       "      <td>41</td>\n",
       "      <td>0</td>\n",
       "      <td>1</td>\n",
       "      <td>130</td>\n",
       "      <td>204</td>\n",
       "      <td>0</td>\n",
       "      <td>0</td>\n",
       "      <td>172</td>\n",
       "      <td>0</td>\n",
       "      <td>1.4</td>\n",
       "      <td>2</td>\n",
       "      <td>0</td>\n",
       "      <td>2</td>\n",
       "      <td>1</td>\n",
       "    </tr>\n",
       "    <tr>\n",
       "      <th>3</th>\n",
       "      <td>56</td>\n",
       "      <td>1</td>\n",
       "      <td>1</td>\n",
       "      <td>120</td>\n",
       "      <td>236</td>\n",
       "      <td>0</td>\n",
       "      <td>1</td>\n",
       "      <td>178</td>\n",
       "      <td>0</td>\n",
       "      <td>0.8</td>\n",
       "      <td>2</td>\n",
       "      <td>0</td>\n",
       "      <td>2</td>\n",
       "      <td>1</td>\n",
       "    </tr>\n",
       "    <tr>\n",
       "      <th>4</th>\n",
       "      <td>57</td>\n",
       "      <td>0</td>\n",
       "      <td>0</td>\n",
       "      <td>120</td>\n",
       "      <td>354</td>\n",
       "      <td>0</td>\n",
       "      <td>1</td>\n",
       "      <td>163</td>\n",
       "      <td>1</td>\n",
       "      <td>0.6</td>\n",
       "      <td>2</td>\n",
       "      <td>0</td>\n",
       "      <td>2</td>\n",
       "      <td>1</td>\n",
       "    </tr>\n",
       "  </tbody>\n",
       "</table>\n",
       "</div>"
      ],
      "text/plain": [
       "   age  sex  cp  trtbps  chol  fbs  restecg  thalachh  exng  oldpeak  slp  \\\n",
       "0   63    1   3     145   233    1        0       150     0      2.3    0   \n",
       "1   37    1   2     130   250    0        1       187     0      3.5    0   \n",
       "2   41    0   1     130   204    0        0       172     0      1.4    2   \n",
       "3   56    1   1     120   236    0        1       178     0      0.8    2   \n",
       "4   57    0   0     120   354    0        1       163     1      0.6    2   \n",
       "\n",
       "   caa  thall  output  \n",
       "0    0      1       1  \n",
       "1    0      2       1  \n",
       "2    0      2       1  \n",
       "3    0      2       1  \n",
       "4    0      2       1  "
      ]
     },
     "execution_count": 80,
     "metadata": {},
     "output_type": "execute_result"
    }
   ],
   "source": [
    "df.head()"
   ]
  },
  {
   "cell_type": "code",
   "execution_count": 81,
   "id": "e53fbe18-8c7a-4f17-ba7b-64812f6a2b3b",
   "metadata": {},
   "outputs": [
    {
     "data": {
      "text/plain": [
       "age         0\n",
       "sex         0\n",
       "cp          0\n",
       "trtbps      0\n",
       "chol        0\n",
       "fbs         0\n",
       "restecg     0\n",
       "thalachh    0\n",
       "exng        0\n",
       "oldpeak     0\n",
       "slp         0\n",
       "caa         0\n",
       "thall       0\n",
       "output      0\n",
       "dtype: int64"
      ]
     },
     "execution_count": 81,
     "metadata": {},
     "output_type": "execute_result"
    }
   ],
   "source": [
    "# Check for missing values\n",
    "df.isnull().sum()"
   ]
  },
  {
   "cell_type": "markdown",
   "id": "1ec974dd-3c89-4155-b351-9ab3c545cd35",
   "metadata": {},
   "source": [
    "### There are no missing values."
   ]
  },
  {
   "cell_type": "markdown",
   "id": "1137f20c-6b88-4ebd-8c1a-185e1ce474d6",
   "metadata": {},
   "source": [
    "### Rename the columns to make them clearer."
   ]
  },
  {
   "cell_type": "code",
   "execution_count": 84,
   "id": "e4ea171b-b867-4347-8739-88643f13fb3a",
   "metadata": {},
   "outputs": [],
   "source": [
    "df.rename(columns={'cp': 'chest_pain_type', 'trtbps': 'resting_bp', 'chol': 'cholesterol', 'fbs': 'fasting_blood_sugar', 'restecg': 'resting_ecg', 'thalachh': 'max_heart_rate', 'exng': 'exercise_induced_angina', 'oldpeak': 'previous peak'}, inplace=True)\n",
    "df.rename(columns={'slp': 'slope', 'caa': 'num_major_vessels', 'thall': 'thal_rate', 'output': 'risk_level'}, inplace=True)"
   ]
  },
  {
   "cell_type": "code",
   "execution_count": 85,
   "id": "5e8515f9-fadf-4309-aa6b-ad623f4d7650",
   "metadata": {},
   "outputs": [
    {
     "data": {
      "text/html": [
       "<div>\n",
       "<style scoped>\n",
       "    .dataframe tbody tr th:only-of-type {\n",
       "        vertical-align: middle;\n",
       "    }\n",
       "\n",
       "    .dataframe tbody tr th {\n",
       "        vertical-align: top;\n",
       "    }\n",
       "\n",
       "    .dataframe thead th {\n",
       "        text-align: right;\n",
       "    }\n",
       "</style>\n",
       "<table border=\"1\" class=\"dataframe\">\n",
       "  <thead>\n",
       "    <tr style=\"text-align: right;\">\n",
       "      <th></th>\n",
       "      <th>age</th>\n",
       "      <th>sex</th>\n",
       "      <th>chest_pain_type</th>\n",
       "      <th>resting_bp</th>\n",
       "      <th>cholesterol</th>\n",
       "      <th>fasting_blood_sugar</th>\n",
       "      <th>resting_ecg</th>\n",
       "      <th>max_heart_rate</th>\n",
       "      <th>exercise_induced_angina</th>\n",
       "      <th>previous peak</th>\n",
       "      <th>slope</th>\n",
       "      <th>num_major_vessels</th>\n",
       "      <th>thal_rate</th>\n",
       "      <th>risk_level</th>\n",
       "    </tr>\n",
       "  </thead>\n",
       "  <tbody>\n",
       "    <tr>\n",
       "      <th>0</th>\n",
       "      <td>63</td>\n",
       "      <td>1</td>\n",
       "      <td>3</td>\n",
       "      <td>145</td>\n",
       "      <td>233</td>\n",
       "      <td>1</td>\n",
       "      <td>0</td>\n",
       "      <td>150</td>\n",
       "      <td>0</td>\n",
       "      <td>2.3</td>\n",
       "      <td>0</td>\n",
       "      <td>0</td>\n",
       "      <td>1</td>\n",
       "      <td>1</td>\n",
       "    </tr>\n",
       "    <tr>\n",
       "      <th>1</th>\n",
       "      <td>37</td>\n",
       "      <td>1</td>\n",
       "      <td>2</td>\n",
       "      <td>130</td>\n",
       "      <td>250</td>\n",
       "      <td>0</td>\n",
       "      <td>1</td>\n",
       "      <td>187</td>\n",
       "      <td>0</td>\n",
       "      <td>3.5</td>\n",
       "      <td>0</td>\n",
       "      <td>0</td>\n",
       "      <td>2</td>\n",
       "      <td>1</td>\n",
       "    </tr>\n",
       "    <tr>\n",
       "      <th>2</th>\n",
       "      <td>41</td>\n",
       "      <td>0</td>\n",
       "      <td>1</td>\n",
       "      <td>130</td>\n",
       "      <td>204</td>\n",
       "      <td>0</td>\n",
       "      <td>0</td>\n",
       "      <td>172</td>\n",
       "      <td>0</td>\n",
       "      <td>1.4</td>\n",
       "      <td>2</td>\n",
       "      <td>0</td>\n",
       "      <td>2</td>\n",
       "      <td>1</td>\n",
       "    </tr>\n",
       "    <tr>\n",
       "      <th>3</th>\n",
       "      <td>56</td>\n",
       "      <td>1</td>\n",
       "      <td>1</td>\n",
       "      <td>120</td>\n",
       "      <td>236</td>\n",
       "      <td>0</td>\n",
       "      <td>1</td>\n",
       "      <td>178</td>\n",
       "      <td>0</td>\n",
       "      <td>0.8</td>\n",
       "      <td>2</td>\n",
       "      <td>0</td>\n",
       "      <td>2</td>\n",
       "      <td>1</td>\n",
       "    </tr>\n",
       "    <tr>\n",
       "      <th>4</th>\n",
       "      <td>57</td>\n",
       "      <td>0</td>\n",
       "      <td>0</td>\n",
       "      <td>120</td>\n",
       "      <td>354</td>\n",
       "      <td>0</td>\n",
       "      <td>1</td>\n",
       "      <td>163</td>\n",
       "      <td>1</td>\n",
       "      <td>0.6</td>\n",
       "      <td>2</td>\n",
       "      <td>0</td>\n",
       "      <td>2</td>\n",
       "      <td>1</td>\n",
       "    </tr>\n",
       "  </tbody>\n",
       "</table>\n",
       "</div>"
      ],
      "text/plain": [
       "   age  sex  chest_pain_type  resting_bp  cholesterol  fasting_blood_sugar  \\\n",
       "0   63    1                3         145          233                    1   \n",
       "1   37    1                2         130          250                    0   \n",
       "2   41    0                1         130          204                    0   \n",
       "3   56    1                1         120          236                    0   \n",
       "4   57    0                0         120          354                    0   \n",
       "\n",
       "   resting_ecg  max_heart_rate  exercise_induced_angina  previous peak  slope  \\\n",
       "0            0             150                        0            2.3      0   \n",
       "1            1             187                        0            3.5      0   \n",
       "2            0             172                        0            1.4      2   \n",
       "3            1             178                        0            0.8      2   \n",
       "4            1             163                        1            0.6      2   \n",
       "\n",
       "   num_major_vessels  thal_rate  risk_level  \n",
       "0                  0          1           1  \n",
       "1                  0          2           1  \n",
       "2                  0          2           1  \n",
       "3                  0          2           1  \n",
       "4                  0          2           1  "
      ]
     },
     "execution_count": 85,
     "metadata": {},
     "output_type": "execute_result"
    }
   ],
   "source": [
    "df.head()"
   ]
  },
  {
   "cell_type": "markdown",
   "id": "4946088e-69c9-41da-bf27-d7b934dd89d6",
   "metadata": {},
   "source": [
    "### The target variable, Risk Level, has values 0 (less chance of heart attack) and 1 (more chance of heart attack)."
   ]
  },
  {
   "cell_type": "markdown",
   "id": "31486bc5-2017-4c9b-ad24-6680c253f5ef",
   "metadata": {},
   "source": [
    "## -------------------------------------------------------------------------------------"
   ]
  },
  {
   "cell_type": "markdown",
   "id": "a8bbb5b8-a813-4ef8-928d-b364b5deb698",
   "metadata": {},
   "source": [
    "## Exploratory Data Analysis"
   ]
  },
  {
   "cell_type": "code",
   "execution_count": 89,
   "id": "a3c337a1-9659-4b57-a62a-5b72d69c81af",
   "metadata": {},
   "outputs": [
    {
     "name": "stdout",
     "output_type": "stream",
     "text": [
      "False\n"
     ]
    }
   ],
   "source": [
    "# Check for missing values in the dataFrame\n",
    "print(df.isnull().values.any()) "
   ]
  },
  {
   "cell_type": "markdown",
   "id": "fb34d80f-d3cd-4239-b44a-5f34608ea515",
   "metadata": {},
   "source": [
    "### There are no missing values."
   ]
  },
  {
   "cell_type": "code",
   "execution_count": 91,
   "id": "4892cfa7-726f-46d5-8915-fa3d3ef210cd",
   "metadata": {},
   "outputs": [
    {
     "name": "stdout",
     "output_type": "stream",
     "text": [
      "<class 'pandas.core.frame.DataFrame'>\n",
      "RangeIndex: 303 entries, 0 to 302\n",
      "Data columns (total 14 columns):\n",
      " #   Column                   Non-Null Count  Dtype  \n",
      "---  ------                   --------------  -----  \n",
      " 0   age                      303 non-null    int64  \n",
      " 1   sex                      303 non-null    int64  \n",
      " 2   chest_pain_type          303 non-null    int64  \n",
      " 3   resting_bp               303 non-null    int64  \n",
      " 4   cholesterol              303 non-null    int64  \n",
      " 5   fasting_blood_sugar      303 non-null    int64  \n",
      " 6   resting_ecg              303 non-null    int64  \n",
      " 7   max_heart_rate           303 non-null    int64  \n",
      " 8   exercise_induced_angina  303 non-null    int64  \n",
      " 9   previous peak            303 non-null    float64\n",
      " 10  slope                    303 non-null    int64  \n",
      " 11  num_major_vessels        303 non-null    int64  \n",
      " 12  thal_rate                303 non-null    int64  \n",
      " 13  risk_level               303 non-null    int64  \n",
      "dtypes: float64(1), int64(13)\n",
      "memory usage: 33.3 KB\n",
      "None\n"
     ]
    }
   ],
   "source": [
    "# Check value types\n",
    "print(df.info())"
   ]
  },
  {
   "cell_type": "code",
   "execution_count": 92,
   "id": "109dc3af-5fa8-4193-9557-fab2c01ca140",
   "metadata": {
    "scrolled": true
   },
   "outputs": [
    {
     "data": {
      "text/html": [
       "<div>\n",
       "<style scoped>\n",
       "    .dataframe tbody tr th:only-of-type {\n",
       "        vertical-align: middle;\n",
       "    }\n",
       "\n",
       "    .dataframe tbody tr th {\n",
       "        vertical-align: top;\n",
       "    }\n",
       "\n",
       "    .dataframe thead th {\n",
       "        text-align: right;\n",
       "    }\n",
       "</style>\n",
       "<table border=\"1\" class=\"dataframe\">\n",
       "  <thead>\n",
       "    <tr style=\"text-align: right;\">\n",
       "      <th></th>\n",
       "      <th>count</th>\n",
       "      <th>mean</th>\n",
       "      <th>std</th>\n",
       "      <th>min</th>\n",
       "      <th>25%</th>\n",
       "      <th>50%</th>\n",
       "      <th>75%</th>\n",
       "      <th>max</th>\n",
       "    </tr>\n",
       "  </thead>\n",
       "  <tbody>\n",
       "    <tr>\n",
       "      <th>age</th>\n",
       "      <td>303.0</td>\n",
       "      <td>54.366337</td>\n",
       "      <td>9.082101</td>\n",
       "      <td>29.0</td>\n",
       "      <td>47.5</td>\n",
       "      <td>55.0</td>\n",
       "      <td>61.0</td>\n",
       "      <td>77.0</td>\n",
       "    </tr>\n",
       "    <tr>\n",
       "      <th>sex</th>\n",
       "      <td>303.0</td>\n",
       "      <td>0.683168</td>\n",
       "      <td>0.466011</td>\n",
       "      <td>0.0</td>\n",
       "      <td>0.0</td>\n",
       "      <td>1.0</td>\n",
       "      <td>1.0</td>\n",
       "      <td>1.0</td>\n",
       "    </tr>\n",
       "    <tr>\n",
       "      <th>chest_pain_type</th>\n",
       "      <td>303.0</td>\n",
       "      <td>0.966997</td>\n",
       "      <td>1.032052</td>\n",
       "      <td>0.0</td>\n",
       "      <td>0.0</td>\n",
       "      <td>1.0</td>\n",
       "      <td>2.0</td>\n",
       "      <td>3.0</td>\n",
       "    </tr>\n",
       "    <tr>\n",
       "      <th>resting_bp</th>\n",
       "      <td>303.0</td>\n",
       "      <td>131.623762</td>\n",
       "      <td>17.538143</td>\n",
       "      <td>94.0</td>\n",
       "      <td>120.0</td>\n",
       "      <td>130.0</td>\n",
       "      <td>140.0</td>\n",
       "      <td>200.0</td>\n",
       "    </tr>\n",
       "    <tr>\n",
       "      <th>cholesterol</th>\n",
       "      <td>303.0</td>\n",
       "      <td>246.264026</td>\n",
       "      <td>51.830751</td>\n",
       "      <td>126.0</td>\n",
       "      <td>211.0</td>\n",
       "      <td>240.0</td>\n",
       "      <td>274.5</td>\n",
       "      <td>564.0</td>\n",
       "    </tr>\n",
       "    <tr>\n",
       "      <th>fasting_blood_sugar</th>\n",
       "      <td>303.0</td>\n",
       "      <td>0.148515</td>\n",
       "      <td>0.356198</td>\n",
       "      <td>0.0</td>\n",
       "      <td>0.0</td>\n",
       "      <td>0.0</td>\n",
       "      <td>0.0</td>\n",
       "      <td>1.0</td>\n",
       "    </tr>\n",
       "    <tr>\n",
       "      <th>resting_ecg</th>\n",
       "      <td>303.0</td>\n",
       "      <td>0.528053</td>\n",
       "      <td>0.525860</td>\n",
       "      <td>0.0</td>\n",
       "      <td>0.0</td>\n",
       "      <td>1.0</td>\n",
       "      <td>1.0</td>\n",
       "      <td>2.0</td>\n",
       "    </tr>\n",
       "    <tr>\n",
       "      <th>max_heart_rate</th>\n",
       "      <td>303.0</td>\n",
       "      <td>149.646865</td>\n",
       "      <td>22.905161</td>\n",
       "      <td>71.0</td>\n",
       "      <td>133.5</td>\n",
       "      <td>153.0</td>\n",
       "      <td>166.0</td>\n",
       "      <td>202.0</td>\n",
       "    </tr>\n",
       "    <tr>\n",
       "      <th>exercise_induced_angina</th>\n",
       "      <td>303.0</td>\n",
       "      <td>0.326733</td>\n",
       "      <td>0.469794</td>\n",
       "      <td>0.0</td>\n",
       "      <td>0.0</td>\n",
       "      <td>0.0</td>\n",
       "      <td>1.0</td>\n",
       "      <td>1.0</td>\n",
       "    </tr>\n",
       "    <tr>\n",
       "      <th>previous peak</th>\n",
       "      <td>303.0</td>\n",
       "      <td>1.039604</td>\n",
       "      <td>1.161075</td>\n",
       "      <td>0.0</td>\n",
       "      <td>0.0</td>\n",
       "      <td>0.8</td>\n",
       "      <td>1.6</td>\n",
       "      <td>6.2</td>\n",
       "    </tr>\n",
       "    <tr>\n",
       "      <th>slope</th>\n",
       "      <td>303.0</td>\n",
       "      <td>1.399340</td>\n",
       "      <td>0.616226</td>\n",
       "      <td>0.0</td>\n",
       "      <td>1.0</td>\n",
       "      <td>1.0</td>\n",
       "      <td>2.0</td>\n",
       "      <td>2.0</td>\n",
       "    </tr>\n",
       "    <tr>\n",
       "      <th>num_major_vessels</th>\n",
       "      <td>303.0</td>\n",
       "      <td>0.729373</td>\n",
       "      <td>1.022606</td>\n",
       "      <td>0.0</td>\n",
       "      <td>0.0</td>\n",
       "      <td>0.0</td>\n",
       "      <td>1.0</td>\n",
       "      <td>4.0</td>\n",
       "    </tr>\n",
       "    <tr>\n",
       "      <th>thal_rate</th>\n",
       "      <td>303.0</td>\n",
       "      <td>2.313531</td>\n",
       "      <td>0.612277</td>\n",
       "      <td>0.0</td>\n",
       "      <td>2.0</td>\n",
       "      <td>2.0</td>\n",
       "      <td>3.0</td>\n",
       "      <td>3.0</td>\n",
       "    </tr>\n",
       "    <tr>\n",
       "      <th>risk_level</th>\n",
       "      <td>303.0</td>\n",
       "      <td>0.544554</td>\n",
       "      <td>0.498835</td>\n",
       "      <td>0.0</td>\n",
       "      <td>0.0</td>\n",
       "      <td>1.0</td>\n",
       "      <td>1.0</td>\n",
       "      <td>1.0</td>\n",
       "    </tr>\n",
       "  </tbody>\n",
       "</table>\n",
       "</div>"
      ],
      "text/plain": [
       "                         count        mean        std    min    25%    50%  \\\n",
       "age                      303.0   54.366337   9.082101   29.0   47.5   55.0   \n",
       "sex                      303.0    0.683168   0.466011    0.0    0.0    1.0   \n",
       "chest_pain_type          303.0    0.966997   1.032052    0.0    0.0    1.0   \n",
       "resting_bp               303.0  131.623762  17.538143   94.0  120.0  130.0   \n",
       "cholesterol              303.0  246.264026  51.830751  126.0  211.0  240.0   \n",
       "fasting_blood_sugar      303.0    0.148515   0.356198    0.0    0.0    0.0   \n",
       "resting_ecg              303.0    0.528053   0.525860    0.0    0.0    1.0   \n",
       "max_heart_rate           303.0  149.646865  22.905161   71.0  133.5  153.0   \n",
       "exercise_induced_angina  303.0    0.326733   0.469794    0.0    0.0    0.0   \n",
       "previous peak            303.0    1.039604   1.161075    0.0    0.0    0.8   \n",
       "slope                    303.0    1.399340   0.616226    0.0    1.0    1.0   \n",
       "num_major_vessels        303.0    0.729373   1.022606    0.0    0.0    0.0   \n",
       "thal_rate                303.0    2.313531   0.612277    0.0    2.0    2.0   \n",
       "risk_level               303.0    0.544554   0.498835    0.0    0.0    1.0   \n",
       "\n",
       "                           75%    max  \n",
       "age                       61.0   77.0  \n",
       "sex                        1.0    1.0  \n",
       "chest_pain_type            2.0    3.0  \n",
       "resting_bp               140.0  200.0  \n",
       "cholesterol              274.5  564.0  \n",
       "fasting_blood_sugar        0.0    1.0  \n",
       "resting_ecg                1.0    2.0  \n",
       "max_heart_rate           166.0  202.0  \n",
       "exercise_induced_angina    1.0    1.0  \n",
       "previous peak              1.6    6.2  \n",
       "slope                      2.0    2.0  \n",
       "num_major_vessels          1.0    4.0  \n",
       "thal_rate                  3.0    3.0  \n",
       "risk_level                 1.0    1.0  "
      ]
     },
     "execution_count": 92,
     "metadata": {},
     "output_type": "execute_result"
    }
   ],
   "source": [
    "# Get summary statistics for columns\n",
    "df.describe().transpose()"
   ]
  },
  {
   "cell_type": "code",
   "execution_count": 93,
   "id": "9217c5d1-ffb8-4ea6-a25a-d3e434ca51b4",
   "metadata": {},
   "outputs": [
    {
     "data": {
      "text/html": [
       "<div>\n",
       "<style scoped>\n",
       "    .dataframe tbody tr th:only-of-type {\n",
       "        vertical-align: middle;\n",
       "    }\n",
       "\n",
       "    .dataframe tbody tr th {\n",
       "        vertical-align: top;\n",
       "    }\n",
       "\n",
       "    .dataframe thead th {\n",
       "        text-align: right;\n",
       "    }\n",
       "</style>\n",
       "<table border=\"1\" class=\"dataframe\">\n",
       "  <thead>\n",
       "    <tr style=\"text-align: right;\">\n",
       "      <th></th>\n",
       "      <th>unique count</th>\n",
       "    </tr>\n",
       "  </thead>\n",
       "  <tbody>\n",
       "    <tr>\n",
       "      <th>age</th>\n",
       "      <td>41</td>\n",
       "    </tr>\n",
       "    <tr>\n",
       "      <th>sex</th>\n",
       "      <td>2</td>\n",
       "    </tr>\n",
       "    <tr>\n",
       "      <th>chest_pain_type</th>\n",
       "      <td>4</td>\n",
       "    </tr>\n",
       "    <tr>\n",
       "      <th>resting_bp</th>\n",
       "      <td>49</td>\n",
       "    </tr>\n",
       "    <tr>\n",
       "      <th>cholesterol</th>\n",
       "      <td>152</td>\n",
       "    </tr>\n",
       "    <tr>\n",
       "      <th>fasting_blood_sugar</th>\n",
       "      <td>2</td>\n",
       "    </tr>\n",
       "    <tr>\n",
       "      <th>resting_ecg</th>\n",
       "      <td>3</td>\n",
       "    </tr>\n",
       "    <tr>\n",
       "      <th>max_heart_rate</th>\n",
       "      <td>91</td>\n",
       "    </tr>\n",
       "    <tr>\n",
       "      <th>exercise_induced_angina</th>\n",
       "      <td>2</td>\n",
       "    </tr>\n",
       "    <tr>\n",
       "      <th>previous peak</th>\n",
       "      <td>40</td>\n",
       "    </tr>\n",
       "    <tr>\n",
       "      <th>slope</th>\n",
       "      <td>3</td>\n",
       "    </tr>\n",
       "    <tr>\n",
       "      <th>num_major_vessels</th>\n",
       "      <td>5</td>\n",
       "    </tr>\n",
       "    <tr>\n",
       "      <th>thal_rate</th>\n",
       "      <td>4</td>\n",
       "    </tr>\n",
       "    <tr>\n",
       "      <th>risk_level</th>\n",
       "      <td>2</td>\n",
       "    </tr>\n",
       "  </tbody>\n",
       "</table>\n",
       "</div>"
      ],
      "text/plain": [
       "                         unique count\n",
       "age                                41\n",
       "sex                                 2\n",
       "chest_pain_type                     4\n",
       "resting_bp                         49\n",
       "cholesterol                       152\n",
       "fasting_blood_sugar                 2\n",
       "resting_ecg                         3\n",
       "max_heart_rate                     91\n",
       "exercise_induced_angina             2\n",
       "previous peak                      40\n",
       "slope                               3\n",
       "num_major_vessels                   5\n",
       "thal_rate                           4\n",
       "risk_level                          2"
      ]
     },
     "execution_count": 93,
     "metadata": {},
     "output_type": "execute_result"
    }
   ],
   "source": [
    "# Get number of unique values for each column\n",
    "\n",
    "dict = {}\n",
    "for i in list(df.columns):\n",
    "    dict[i] = df[i].value_counts().shape[0]\n",
    "\n",
    "pd.DataFrame(dict,index=[\"unique count\"]).transpose()"
   ]
  },
  {
   "cell_type": "code",
   "execution_count": 94,
   "id": "bb5254db-85a0-4b49-8c37-59062aa5543f",
   "metadata": {},
   "outputs": [],
   "source": [
    "import seaborn as sns\n",
    "import matplotlib.pyplot as plt"
   ]
  },
  {
   "cell_type": "code",
   "execution_count": 95,
   "id": "c08ec13c-49d1-4be7-8efd-1ffab9f9c646",
   "metadata": {},
   "outputs": [],
   "source": [
    "correlation_matrix = df.corr()"
   ]
  },
  {
   "cell_type": "code",
   "execution_count": 96,
   "id": "ff1cab52-ff18-4796-b02f-9bf1ab8c6082",
   "metadata": {},
   "outputs": [
    {
     "name": "stdout",
     "output_type": "stream",
     "text": [
      "                              age       sex  chest_pain_type  resting_bp  \\\n",
      "age                      1.000000 -0.098447        -0.068653    0.279351   \n",
      "sex                     -0.098447  1.000000        -0.049353   -0.056769   \n",
      "chest_pain_type         -0.068653 -0.049353         1.000000    0.047608   \n",
      "resting_bp               0.279351 -0.056769         0.047608    1.000000   \n",
      "cholesterol              0.213678 -0.197912        -0.076904    0.123174   \n",
      "fasting_blood_sugar      0.121308  0.045032         0.094444    0.177531   \n",
      "resting_ecg             -0.116211 -0.058196         0.044421   -0.114103   \n",
      "max_heart_rate          -0.398522 -0.044020         0.295762   -0.046698   \n",
      "exercise_induced_angina  0.096801  0.141664        -0.394280    0.067616   \n",
      "previous peak            0.210013  0.096093        -0.149230    0.193216   \n",
      "slope                   -0.168814 -0.030711         0.119717   -0.121475   \n",
      "num_major_vessels        0.276326  0.118261        -0.181053    0.101389   \n",
      "thal_rate                0.068001  0.210041        -0.161736    0.062210   \n",
      "risk_level              -0.225439 -0.280937         0.433798   -0.144931   \n",
      "\n",
      "                         cholesterol  fasting_blood_sugar  resting_ecg  \\\n",
      "age                         0.213678             0.121308    -0.116211   \n",
      "sex                        -0.197912             0.045032    -0.058196   \n",
      "chest_pain_type            -0.076904             0.094444     0.044421   \n",
      "resting_bp                  0.123174             0.177531    -0.114103   \n",
      "cholesterol                 1.000000             0.013294    -0.151040   \n",
      "fasting_blood_sugar         0.013294             1.000000    -0.084189   \n",
      "resting_ecg                -0.151040            -0.084189     1.000000   \n",
      "max_heart_rate             -0.009940            -0.008567     0.044123   \n",
      "exercise_induced_angina     0.067023             0.025665    -0.070733   \n",
      "previous peak               0.053952             0.005747    -0.058770   \n",
      "slope                      -0.004038            -0.059894     0.093045   \n",
      "num_major_vessels           0.070511             0.137979    -0.072042   \n",
      "thal_rate                   0.098803            -0.032019    -0.011981   \n",
      "risk_level                 -0.085239            -0.028046     0.137230   \n",
      "\n",
      "                         max_heart_rate  exercise_induced_angina  \\\n",
      "age                           -0.398522                 0.096801   \n",
      "sex                           -0.044020                 0.141664   \n",
      "chest_pain_type                0.295762                -0.394280   \n",
      "resting_bp                    -0.046698                 0.067616   \n",
      "cholesterol                   -0.009940                 0.067023   \n",
      "fasting_blood_sugar           -0.008567                 0.025665   \n",
      "resting_ecg                    0.044123                -0.070733   \n",
      "max_heart_rate                 1.000000                -0.378812   \n",
      "exercise_induced_angina       -0.378812                 1.000000   \n",
      "previous peak                 -0.344187                 0.288223   \n",
      "slope                          0.386784                -0.257748   \n",
      "num_major_vessels             -0.213177                 0.115739   \n",
      "thal_rate                     -0.096439                 0.206754   \n",
      "risk_level                     0.421741                -0.436757   \n",
      "\n",
      "                         previous peak     slope  num_major_vessels  \\\n",
      "age                           0.210013 -0.168814           0.276326   \n",
      "sex                           0.096093 -0.030711           0.118261   \n",
      "chest_pain_type              -0.149230  0.119717          -0.181053   \n",
      "resting_bp                    0.193216 -0.121475           0.101389   \n",
      "cholesterol                   0.053952 -0.004038           0.070511   \n",
      "fasting_blood_sugar           0.005747 -0.059894           0.137979   \n",
      "resting_ecg                  -0.058770  0.093045          -0.072042   \n",
      "max_heart_rate               -0.344187  0.386784          -0.213177   \n",
      "exercise_induced_angina       0.288223 -0.257748           0.115739   \n",
      "previous peak                 1.000000 -0.577537           0.222682   \n",
      "slope                        -0.577537  1.000000          -0.080155   \n",
      "num_major_vessels             0.222682 -0.080155           1.000000   \n",
      "thal_rate                     0.210244 -0.104764           0.151832   \n",
      "risk_level                   -0.430696  0.345877          -0.391724   \n",
      "\n",
      "                         thal_rate  risk_level  \n",
      "age                       0.068001   -0.225439  \n",
      "sex                       0.210041   -0.280937  \n",
      "chest_pain_type          -0.161736    0.433798  \n",
      "resting_bp                0.062210   -0.144931  \n",
      "cholesterol               0.098803   -0.085239  \n",
      "fasting_blood_sugar      -0.032019   -0.028046  \n",
      "resting_ecg              -0.011981    0.137230  \n",
      "max_heart_rate           -0.096439    0.421741  \n",
      "exercise_induced_angina   0.206754   -0.436757  \n",
      "previous peak             0.210244   -0.430696  \n",
      "slope                    -0.104764    0.345877  \n",
      "num_major_vessels         0.151832   -0.391724  \n",
      "thal_rate                 1.000000   -0.344029  \n",
      "risk_level               -0.344029    1.000000  \n"
     ]
    }
   ],
   "source": [
    "print(correlation_matrix)"
   ]
  },
  {
   "cell_type": "code",
   "execution_count": 97,
   "id": "ba6f462e-6db9-407f-8851-3ebca4995c06",
   "metadata": {},
   "outputs": [
    {
     "data": {
      "image/png": "[encoded data removed]",
      "text/plain": [
       "<Figure size 640x480 with 2 Axes>"
      ]
     },
     "metadata": {},
     "output_type": "display_data"
    }
   ],
   "source": [
    "sns.heatmap(correlation_matrix, annot=False, cmap='coolwarm')\n",
    "plt.show()"
   ]
  },
  {
   "cell_type": "code",
   "execution_count": 98,
   "id": "3abed5af-5aab-479b-9f76-0382aa8855ea",
   "metadata": {},
   "outputs": [
    {
     "data": {
      "image/png": "[encoded data removed]",
      "text/plain": [
       "<Figure size 1000x1000 with 20 Axes>"
      ]
     },
     "metadata": {},
     "output_type": "display_data"
    }
   ],
   "source": [
    "selected_columns = ['max_heart_rate', 'exercise_induced_angina', 'chest_pain_type', 'risk_level']\n",
    "sns.pairplot(df[selected_columns])\n",
    "plt.suptitle('Pair Plot of Selected Variables', y=1.02)\n",
    "plt.show()"
   ]
  },
  {
   "cell_type": "markdown",
   "id": "23cd6a7d-6dd0-47b4-98fc-e187c31d7690",
   "metadata": {},
   "source": [
    "## Find and Visualize Mutual Information Scores:"
   ]
  },
  {
   "cell_type": "code",
   "execution_count": 100,
   "id": "61c920b7-3776-41d8-b974-99a7b281b836",
   "metadata": {},
   "outputs": [
    {
     "data": {
      "text/html": [
       "<div>\n",
       "<style scoped>\n",
       "    .dataframe tbody tr th:only-of-type {\n",
       "        vertical-align: middle;\n",
       "    }\n",
       "\n",
       "    .dataframe tbody tr th {\n",
       "        vertical-align: top;\n",
       "    }\n",
       "\n",
       "    .dataframe thead th {\n",
       "        text-align: right;\n",
       "    }\n",
       "</style>\n",
       "<table border=\"1\" class=\"dataframe\">\n",
       "  <thead>\n",
       "    <tr style=\"text-align: right;\">\n",
       "      <th></th>\n",
       "      <th>age</th>\n",
       "      <th>sex</th>\n",
       "      <th>chest_pain_type</th>\n",
       "      <th>resting_bp</th>\n",
       "      <th>cholesterol</th>\n",
       "      <th>fasting_blood_sugar</th>\n",
       "      <th>resting_ecg</th>\n",
       "      <th>max_heart_rate</th>\n",
       "      <th>exercise_induced_angina</th>\n",
       "      <th>previous peak</th>\n",
       "      <th>slope</th>\n",
       "      <th>num_major_vessels</th>\n",
       "      <th>thal_rate</th>\n",
       "      <th>risk_level</th>\n",
       "    </tr>\n",
       "  </thead>\n",
       "  <tbody>\n",
       "    <tr>\n",
       "      <th>0</th>\n",
       "      <td>29</td>\n",
       "      <td>1</td>\n",
       "      <td>3</td>\n",
       "      <td>31</td>\n",
       "      <td>64</td>\n",
       "      <td>1</td>\n",
       "      <td>0</td>\n",
       "      <td>49</td>\n",
       "      <td>0</td>\n",
       "      <td>22</td>\n",
       "      <td>0</td>\n",
       "      <td>0</td>\n",
       "      <td>1</td>\n",
       "      <td>1</td>\n",
       "    </tr>\n",
       "    <tr>\n",
       "      <th>1</th>\n",
       "      <td>3</td>\n",
       "      <td>1</td>\n",
       "      <td>2</td>\n",
       "      <td>22</td>\n",
       "      <td>80</td>\n",
       "      <td>0</td>\n",
       "      <td>1</td>\n",
       "      <td>84</td>\n",
       "      <td>0</td>\n",
       "      <td>32</td>\n",
       "      <td>0</td>\n",
       "      <td>0</td>\n",
       "      <td>2</td>\n",
       "      <td>1</td>\n",
       "    </tr>\n",
       "    <tr>\n",
       "      <th>2</th>\n",
       "      <td>7</td>\n",
       "      <td>0</td>\n",
       "      <td>1</td>\n",
       "      <td>22</td>\n",
       "      <td>35</td>\n",
       "      <td>0</td>\n",
       "      <td>0</td>\n",
       "      <td>71</td>\n",
       "      <td>0</td>\n",
       "      <td>14</td>\n",
       "      <td>2</td>\n",
       "      <td>0</td>\n",
       "      <td>2</td>\n",
       "      <td>1</td>\n",
       "    </tr>\n",
       "    <tr>\n",
       "      <th>3</th>\n",
       "      <td>22</td>\n",
       "      <td>1</td>\n",
       "      <td>1</td>\n",
       "      <td>14</td>\n",
       "      <td>67</td>\n",
       "      <td>0</td>\n",
       "      <td>1</td>\n",
       "      <td>76</td>\n",
       "      <td>0</td>\n",
       "      <td>8</td>\n",
       "      <td>2</td>\n",
       "      <td>0</td>\n",
       "      <td>2</td>\n",
       "      <td>1</td>\n",
       "    </tr>\n",
       "    <tr>\n",
       "      <th>4</th>\n",
       "      <td>23</td>\n",
       "      <td>0</td>\n",
       "      <td>0</td>\n",
       "      <td>14</td>\n",
       "      <td>145</td>\n",
       "      <td>0</td>\n",
       "      <td>1</td>\n",
       "      <td>62</td>\n",
       "      <td>1</td>\n",
       "      <td>6</td>\n",
       "      <td>2</td>\n",
       "      <td>0</td>\n",
       "      <td>2</td>\n",
       "      <td>1</td>\n",
       "    </tr>\n",
       "  </tbody>\n",
       "</table>\n",
       "</div>"
      ],
      "text/plain": [
       "   age  sex  chest_pain_type  resting_bp  cholesterol  fasting_blood_sugar  \\\n",
       "0   29    1                3          31           64                    1   \n",
       "1    3    1                2          22           80                    0   \n",
       "2    7    0                1          22           35                    0   \n",
       "3   22    1                1          14           67                    0   \n",
       "4   23    0                0          14          145                    0   \n",
       "\n",
       "   resting_ecg  max_heart_rate  exercise_induced_angina  previous peak  slope  \\\n",
       "0            0              49                        0             22      0   \n",
       "1            1              84                        0             32      0   \n",
       "2            0              71                        0             14      2   \n",
       "3            1              76                        0              8      2   \n",
       "4            1              62                        1              6      2   \n",
       "\n",
       "   num_major_vessels  thal_rate  risk_level  \n",
       "0                  0          1           1  \n",
       "1                  0          2           1  \n",
       "2                  0          2           1  \n",
       "3                  0          2           1  \n",
       "4                  0          2           1  "
      ]
     },
     "execution_count": 100,
     "metadata": {},
     "output_type": "execute_result"
    }
   ],
   "source": [
    "from sklearn import preprocessing\n",
    "\n",
    "le = preprocessing.LabelEncoder()\n",
    "df = df.apply(le.fit_transform)\n",
    "df.head()"
   ]
  },
  {
   "cell_type": "code",
   "execution_count": 101,
   "id": "f1f0b365-8f33-462c-88a8-0571efc451ec",
   "metadata": {},
   "outputs": [],
   "source": [
    "X= df.drop('risk_level',axis=1)\n",
    "y= df.risk_level         \n",
    "\n",
    "#changing object dtype to int dtype\n",
    "for colname in X.select_dtypes(\"object\"):\n",
    "    X[colname], _ = X[colname].factorize()"
   ]
  },
  {
   "cell_type": "code",
   "execution_count": 102,
   "id": "2d4be1de-d890-418e-93f6-93311bd52f6b",
   "metadata": {},
   "outputs": [
    {
     "data": {
      "text/plain": [
       "age                        int64\n",
       "sex                        int64\n",
       "chest_pain_type            int64\n",
       "resting_bp                 int64\n",
       "cholesterol                int64\n",
       "fasting_blood_sugar        int64\n",
       "resting_ecg                int64\n",
       "max_heart_rate             int64\n",
       "exercise_induced_angina    int64\n",
       "previous peak              int64\n",
       "slope                      int64\n",
       "num_major_vessels          int64\n",
       "thal_rate                  int64\n",
       "dtype: object"
      ]
     },
     "execution_count": 102,
     "metadata": {},
     "output_type": "execute_result"
    }
   ],
   "source": [
    "X.dtypes"
   ]
  },
  {
   "cell_type": "code",
   "execution_count": 103,
   "id": "00c9fa20-2ef9-4ace-be95-40101ff4f54b",
   "metadata": {},
   "outputs": [
    {
     "data": {
      "text/plain": [
       "chest_pain_type            0.201357\n",
       "previous peak              0.136969\n",
       "thal_rate                  0.136668\n",
       "num_major_vessels          0.134568\n",
       "sex                        0.094272\n",
       "exercise_induced_angina    0.083537\n",
       "cholesterol                0.063525\n",
       "max_heart_rate             0.063194\n",
       "slope                      0.057510\n",
       "resting_ecg                0.008012\n",
       "age                        0.000000\n",
       "resting_bp                 0.000000\n",
       "fasting_blood_sugar        0.000000\n",
       "Name: MI Scores, dtype: float64"
      ]
     },
     "execution_count": 103,
     "metadata": {},
     "output_type": "execute_result"
    }
   ],
   "source": [
    "from sklearn.feature_selection import mutual_info_classif\n",
    "\n",
    "mi_scores = mutual_info_classif(X, y)\n",
    "mi_scores = pd.Series(mi_scores, name=\"MI Scores\", index=X.columns)\n",
    "mi_scores = mi_scores.sort_values(ascending=False)\n",
    "\n",
    "mi_scores # show features with their MI scores"
   ]
  },
  {
   "cell_type": "code",
   "execution_count": 104,
   "id": "31ccbd86-443a-4b71-9310-5b3308f277a7",
   "metadata": {},
   "outputs": [
    {
     "data": {
      "image/png": "[encoded data removed]",
      "text/plain": [
       "<Figure size 800x500 with 1 Axes>"
      ]
     },
     "metadata": {},
     "output_type": "display_data"
    }
   ],
   "source": [
    "def plot_mi_scores(scores):\n",
    "    scores = scores.sort_values(ascending=True)\n",
    "    width = np.arange(len(scores))\n",
    "    ticks = list(scores.index)\n",
    "    plt.barh(width, scores)\n",
    "    plt.yticks(width, ticks)\n",
    "    plt.title(\"Mutual Information Scores\")\n",
    "\n",
    "\n",
    "plt.figure(dpi=100, figsize=(8, 5))\n",
    "plot_mi_scores(mi_scores)"
   ]
  },
  {
   "cell_type": "markdown",
   "id": "df111e47-f847-4d42-93f6-f960c1fc5887",
   "metadata": {},
   "source": [
    "## Prepare Models"
   ]
  },
  {
   "cell_type": "code",
   "execution_count": 106,
   "id": "0a34e378-0fe0-4f15-b143-8ed87d4778b5",
   "metadata": {},
   "outputs": [],
   "source": [
    "#test train split\n",
    "\n",
    "from sklearn.model_selection import train_test_split\n",
    "\n",
    "# dataset split\n",
    "# creating a function for dataset split\n",
    "def dataset(X,y):\n",
    "    train_full_X, val_X, train_full_y, val_y = train_test_split(X, y,test_size=0.2,random_state = 0)\n",
    "\n",
    "# Use the same function above for the validation set\n",
    "    train_X, test_X, train_y, test_y = train_test_split(train_full_X, train_full_y, test_size=0.25,random_state = 0)\n",
    "    return (train_X, val_X, train_y, val_y)"
   ]
  },
  {
   "cell_type": "code",
   "execution_count": 107,
   "id": "d8630f84-0e33-419d-ac84-6b55cd97d77a",
   "metadata": {},
   "outputs": [],
   "source": [
    "from sklearn.preprocessing import MinMaxScaler\n",
    "\n",
    "def scale(X):\n",
    "    scaler = MinMaxScaler()\n",
    "    scaler.fit(X)\n",
    "    return X"
   ]
  },
  {
   "cell_type": "markdown",
   "id": "5f503ec6-2c6a-4f81-99b1-7c7a12cc99ae",
   "metadata": {},
   "source": [
    "### Random Forest Classifier"
   ]
  },
  {
   "cell_type": "code",
   "execution_count": 109,
   "id": "215dbb8d-88d2-4ddf-9333-5ca73e44623c",
   "metadata": {},
   "outputs": [],
   "source": [
    "from sklearn.metrics import roc_auc_score\n",
    "from sklearn.metrics import accuracy_score\n",
    "from sklearn.ensemble import RandomForestClassifier"
   ]
  },
  {
   "cell_type": "code",
   "execution_count": 110,
   "id": "07de86d6-f00f-4a6f-9e03-5e6f5844a343",
   "metadata": {},
   "outputs": [
    {
     "name": "stdout",
     "output_type": "stream",
     "text": [
      "ACCURACY:  83.60655737704919\n",
      "AUC score:  0.8376906318082789\n"
     ]
    }
   ],
   "source": [
    "X = pd.get_dummies(X)\n",
    "X= scale(X)\n",
    "y = df.risk_level       \n",
    "\n",
    "X_train,X_val,y_train,y_val= dataset(X,y)\n",
    "\n",
    "forest_model= RandomForestClassifier(random_state=1)\n",
    "forest_model.fit(X_train, y_train)\n",
    "preds= forest_model.predict(X_val)\n",
    "\n",
    "print('ACCURACY: ',accuracy_score(y_val,preds)*100)\n",
    "print('AUC score: ',roc_auc_score(y_val,preds))"
   ]
  },
  {
   "cell_type": "markdown",
   "id": "c42776fb-cc0b-44ce-99d3-7f9fa5ace8f4",
   "metadata": {},
   "source": [
    "### XGB Classifier"
   ]
  },
  {
   "cell_type": "code",
   "execution_count": 112,
   "id": "efc3cf29-e965-4992-98e5-cb7a5704866e",
   "metadata": {},
   "outputs": [
    {
     "name": "stdout",
     "output_type": "stream",
     "text": [
      "ACCURACY:  83.60655737704919\n",
      "AUC score:  0.8338779956427016\n"
     ]
    }
   ],
   "source": [
    "from xgboost import XGBClassifier\n",
    "\n",
    "X = pd.get_dummies(X)\n",
    "X= scale(X)\n",
    "y= df.risk_level \n",
    "\n",
    "X_train,X_val,y_train,y_val= dataset(X,y)\n",
    "\n",
    "\n",
    "xgb_model = XGBClassifier()\n",
    "xgb_model.fit(X_train, y_train)\n",
    "prediction_xgb = xgb_model.predict(X_val)\n",
    "print('ACCURACY: ',accuracy_score(y_val, prediction_xgb)*100)\n",
    "print('AUC score: ',roc_auc_score(y_val,prediction_xgb))"
   ]
  },
  {
   "cell_type": "markdown",
   "id": "a7ca9520-789c-4175-a4c0-452bd20c23c2",
   "metadata": {},
   "source": [
    "## Conclusion: The two models are nearly indistinguishable in quality, with the same accuracy and almost identical AUC scores."
   ]
  },
  {
   "cell_type": "markdown",
   "id": "979fc399-71b2-4c66-9073-91026720ec71",
   "metadata": {},
   "source": [
    "# Perform cross-validation:"
   ]
  },
  {
   "cell_type": "code",
   "execution_count": 115,
   "id": "f8b4ea0c-0d3c-491b-8da2-cfe2cee17dcc",
   "metadata": {},
   "outputs": [],
   "source": [
    "from sklearn.tree import DecisionTreeClassifier\n",
    "from sklearn.model_selection import KFold, cross_val_score"
   ]
  },
  {
   "cell_type": "code",
   "execution_count": 116,
   "id": "4c32ae9a-cd48-4d25-9ccb-fe796657c01f",
   "metadata": {},
   "outputs": [],
   "source": [
    "clf = DecisionTreeClassifier(random_state=42)"
   ]
  },
  {
   "cell_type": "code",
   "execution_count": 117,
   "id": "132394d1-7445-4d9c-9414-b8012b2098d5",
   "metadata": {},
   "outputs": [],
   "source": [
    "k_folds = KFold(n_splits = 5)\n",
    "\n",
    "scores = cross_val_score(clf, X, y, cv = k_folds)"
   ]
  },
  {
   "cell_type": "code",
   "execution_count": 118,
   "id": "14ad2479-722a-474a-be4f-acb61e280435",
   "metadata": {},
   "outputs": [
    {
     "name": "stdout",
     "output_type": "stream",
     "text": [
      "Cross Validation Scores:  [0.63934426 0.57377049 0.72131148 0.8        0.61666667]\n",
      "Average CV Score:  0.6702185792349726\n",
      "Number of CV Scores used in Average:  5\n"
     ]
    }
   ],
   "source": [
    "print(\"Cross Validation Scores: \", scores)\n",
    "print(\"Average CV Score: \", scores.mean())\n",
    "print(\"Number of CV Scores used in Average: \", len(scores))"
   ]
  },
  {
   "cell_type": "code",
   "execution_count": null,
   "id": "7d087492-c0d7-4926-b86b-eabe0cadd493",
   "metadata": {},
   "outputs": [],
   "source": []
  }
 ],
 "metadata": {
  "kernelspec": {
   "display_name": "Python 3 (ipykernel)",
   "language": "python",
   "name": "python3"
  },
  "language_info": {
   "codemirror_mode": {
    "name": "ipython",
    "version": 3
   },
   "file_extension": ".py",
   "mimetype": "text/x-python",
   "name": "python",
   "nbconvert_exporter": "python",
   "pygments_lexer": "ipython3",
   "version": "3.12.4"
  }
 },
 "nbformat": 4,
 "nbformat_minor": 5
}
